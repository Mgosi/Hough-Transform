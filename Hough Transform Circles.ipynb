{
 "cells": [
  {
   "cell_type": "code",
   "execution_count": 1,
   "metadata": {},
   "outputs": [
    {
     "name": "stdout",
     "output_type": "stream",
     "text": [
      "<class 'numpy.ndarray'>\n"
     ]
    }
   ],
   "source": [
    "import cv2\n",
    "import numpy as np\n",
    "img = cv2.imread(\"hough.jpg\", 0)\n",
    "print(type(img))\n",
    "img = np.asarray(img)\n",
    "\n",
    "#Fetching the rows and columns\n",
    "rows = len(img)\n",
    "cols = len(img[0])"
   ]
  },
  {
   "cell_type": "markdown",
   "metadata": {},
   "source": [
    "# Sobel Operator"
   ]
  },
  {
   "cell_type": "code",
   "execution_count": 2,
   "metadata": {
    "scrolled": true
   },
   "outputs": [],
   "source": [
    "#initializing Sobel Operator\n",
    "gx_sobel = [[-1,-2,-1],\n",
    "           [0,0,0],\n",
    "           [1,2,1]]\n",
    "\n",
    "gy_sobel = [[-1,0,1],\n",
    "           [-2,0,2],\n",
    "           [-1,0,1]]\n",
    "\n",
    "x_sobel = list(map(list,zip(*gx_sobel)))\n",
    "y_sobel = list(map(list,zip(*gy_sobel)))\n"
   ]
  },
  {
   "cell_type": "markdown",
   "metadata": {},
   "source": [
    "# Applying Gradient"
   ]
  },
  {
   "cell_type": "code",
   "execution_count": 3,
   "metadata": {
    "scrolled": true
   },
   "outputs": [
    {
     "name": "stderr",
     "output_type": "stream",
     "text": [
      "C:\\Anaconda3.6\\lib\\site-packages\\ipykernel_launcher.py:10: RuntimeWarning: overflow encountered in ubyte_scalars\n",
      "  # Remove the CWD from sys.path while we load stuff.\n",
      "C:\\Anaconda3.6\\lib\\site-packages\\ipykernel_launcher.py:15: RuntimeWarning: overflow encountered in ubyte_scalars\n",
      "  from ipykernel import kernelapp as app\n"
     ]
    },
    {
     "data": {
      "text/plain": [
       "True"
      ]
     },
     "execution_count": 3,
     "metadata": {},
     "output_type": "execute_result"
    }
   ],
   "source": [
    "#Used to pad the image\n",
    "img_x = [[0]*902 for i in range(602)]\n",
    "img_y= [[0]*902 for i in range(602)]\n",
    "\n",
    "#Finding the Gradient to distinguish the images clearly. Especially the edges of the images\n",
    "#Along X Axis\n",
    "\n",
    "for i in range(1,img.shape[0]-1):\n",
    "    for j in range(1,img.shape[1]-1):\n",
    "        img_x[i][j] = img[i+1][j] - img[i-1][j]  #Subtract the neighbouring pixels on the x-axis\n",
    "\n",
    "#Along Y Axis        \n",
    "for i in range(1,img.shape[0]-1):\n",
    "    for j in range(1,img.shape[1]-1):\n",
    "        img_y[i][j] = img[i][j+1] - img[i][j-1]  #Subtract the neighbouring pixels on the y-axis\n",
    "\n",
    "img_x = np.asarray(img_x)\n",
    "img_y = np.asarray(img_y)\n",
    "\n",
    "cv2.imwrite('T3_Images/Gradient_X.png',(img_x))\n",
    "cv2.imwrite('T3_Images/Gradient_Y.png',(img_y))\n"
   ]
  },
  {
   "cell_type": "markdown",
   "metadata": {},
   "source": [
    "# Convolution"
   ]
  },
  {
   "cell_type": "code",
   "execution_count": 4,
   "metadata": {},
   "outputs": [
    {
     "data": {
      "text/plain": [
       "True"
      ]
     },
     "execution_count": 4,
     "metadata": {},
     "output_type": "execute_result"
    }
   ],
   "source": [
    "#Convolution\n",
    "import math\n",
    "sobelgx = [[0]*img.shape[1] for i in range(img.shape[0])]    #Creating empty 2D Lists\n",
    "sobelgy = [[0]*img.shape[1] for i in range(img.shape[0])]\n",
    "sobel = [[0]*img.shape[1] for i in range(img.shape[0])]\n",
    "sobel_add = [[0]*img.shape[1] for i in range(img.shape[0])]\n",
    "\n",
    "#Multiplying the sobel operator with the corresponding image pixel for that patch of the image to find the covoluted pixel value for (x,y)\n",
    "for x in range(1, rows-1):\n",
    "    for y in range (1, cols-1):\n",
    "        gx =  x_sobel[0][0] * img[x-1][y-1] + x_sobel[0][1] * img[x][y-1] + x_sobel[0][2] * img[x+1][y-1] + (x_sobel[1][0] * img[x-1][y])   + (x_sobel[1][1] * img[x][y])   + (x_sobel[1][2] * img[x+1][y]) + (x_sobel[2][0] * img[x-1][y+1]) + (x_sobel[2][1] * img[x][y+1]) + (x_sobel[2][2] * img[x+1][y+1])\n",
    "        sobelgy[x-1][y-1] = gx\n",
    "        gy =  (y_sobel[0][0] * img[x-1][y-1]) + (y_sobel[0][1] * img[x][y-1]) + (y_sobel[0][2] * img[x+1][y-1]) + (y_sobel[1][0] * img[x-1][y])   + (y_sobel[1][1] * img[x][y])   + (y_sobel[1][2] * img[x+1][y]) + (y_sobel[2][0] * img[x-1][y+1]) + (y_sobel[2][1] * img[x][y+1]) + (y_sobel[2][2] * img[x+1][y+1])\n",
    "        sobelgx[x-1][y-1] = gy\n",
    "        \n",
    "        sobel[x-1][y-1] = math.sqrt((gx*gx + gy*gy))   #Combining the outputs of the Sobel-X and Sobel-Y by Root of Squared Sum.\n",
    "        sobel_add[x-1][y-1] = (gx + gy)/2              #Combining the outputs of the Sobel-x and Sobel-Y by adding the values\n",
    "\n",
    "cv2.imwrite('T3_Images/Sobel_X.png',np.asarray(sobelgx)) \n",
    "cv2.imwrite('T3_Images/Sobel_Y.png',np.asarray(sobelgy))\n",
    "cv2.imwrite('T3_Images/Sobel.png',np.asarray(sobel))\n",
    "cv2.imwrite('T3_Images/Sobel_add.png',np.asarray(sobel_add))\n"
   ]
  },
  {
   "cell_type": "markdown",
   "metadata": {},
   "source": [
    "# Normalization"
   ]
  },
  {
   "cell_type": "code",
   "execution_count": 5,
   "metadata": {},
   "outputs": [],
   "source": [
    "theta = []\n",
    "for i in range(0,360):\n",
    "    theta.append(i)\n",
    "theta = np.asarray(theta)"
   ]
  },
  {
   "cell_type": "code",
   "execution_count": 6,
   "metadata": {},
   "outputs": [
    {
     "name": "stdout",
     "output_type": "stream",
     "text": [
      "[[ 1  2  0 ...  0  0  0]\n",
      " [ 1  2  0 ... 11  0  0]\n",
      " [ 2  0  0 ...  0  0  0]\n",
      " ...\n",
      " [ 0  0  0 ...  8  0  0]\n",
      " [ 0  0  0 ...  0  0  0]\n",
      " [ 0  0  0 ...  0  0  0]]\n"
     ]
    },
    {
     "data": {
      "text/plain": [
       "((477, 666), (477, 666))"
      ]
     },
     "execution_count": 6,
     "metadata": {},
     "output_type": "execute_result"
    }
   ],
   "source": [
    "img = cv2.imread(\"T3_Images/Sobel_Y.png\", 0)\n",
    "print (img)\n",
    "R = 22\n",
    "thres_img = np.zeros((img.shape[0], img.shape[1]))\n",
    "for i in range(img.shape[0]):\n",
    "    for j in range(img.shape[1]):\n",
    "        if img[i][j] > 100:\n",
    "            thres_img[i][j] = 255\n",
    "thres_img = np.asarray(thres_img)\n",
    "cv2.imwrite(\"T3_Images/T_sobel.jpg\", thres_img)\n",
    "thres_img.shape, img.shape"
   ]
  },
  {
   "cell_type": "code",
   "execution_count": 7,
   "metadata": {},
   "outputs": [],
   "source": [
    "def circumference_point(x,y, theta, R):\n",
    "    points = []\n",
    "    for t in theta:\n",
    "        a = int((y - R*np.cos(math.radians(t))))\n",
    "        b = int((x - R*np.sin(math.radians(t))))\n",
    "        points.append([a,b])\n",
    "    return points"
   ]
  },
  {
   "cell_type": "code",
   "execution_count": 16,
   "metadata": {},
   "outputs": [],
   "source": [
    "def accumulator_matrix(thres_img,theta, R):\n",
    "    \n",
    "    acc = np.zeros((2*thres_img.shape[0], 2*thres_img.shape[1]))\n",
    "    for x in range(thres_img.shape[0]):\n",
    "        for y in range(thres_img.shape[1]):\n",
    "            if thres_img[x][y] == 255:\n",
    "                circum_points = circumference_point(x,y,theta,R)\n",
    "                #print (circum_points)\n",
    "                for point in circum_points:\n",
    "                    acc[point[0]][point[1]] += 1\n",
    "    cv2.imwrite(\"Bonus_accumulator.jpg\",acc)\n",
    "    return acc"
   ]
  },
  {
   "cell_type": "code",
   "execution_count": 17,
   "metadata": {},
   "outputs": [],
   "source": [
    "import math\n",
    "acc = accumulator_matrix(thres_img, theta, R)"
   ]
  },
  {
   "cell_type": "code",
   "execution_count": 10,
   "metadata": {},
   "outputs": [
    {
     "data": {
      "text/plain": [
       "True"
      ]
     },
     "execution_count": 10,
     "metadata": {},
     "output_type": "execute_result"
    }
   ],
   "source": [
    "cv2.imwrite(\"T3_Images/Bonus_acc.jpg\",acc)"
   ]
  },
  {
   "cell_type": "code",
   "execution_count": 11,
   "metadata": {},
   "outputs": [],
   "source": [
    "# sobelgx = cv2.imread(\"red_img.jpg\", 0)\n",
    "# cv2.imwrite(\"gray_red_img.jpg\",sobelgx)"
   ]
  },
  {
   "cell_type": "code",
   "execution_count": null,
   "metadata": {},
   "outputs": [],
   "source": []
  },
  {
   "cell_type": "code",
   "execution_count": 12,
   "metadata": {},
   "outputs": [],
   "source": [
    "def max_indices(arr, k):\n",
    "    '''\n",
    "    Returns the indices of the k first largest elements of arr\n",
    "    (in descending order in values)\n",
    "    '''\n",
    "    assert k <= arr.size, 'k should be smaller or equal to the array size'\n",
    "    arr_ = arr.astype(float)  # make a copy of arr\n",
    "    max_idxs = []\n",
    "    for _ in range(k):\n",
    "        max_element = np.max(arr_)\n",
    "        if np.isinf(max_element):\n",
    "            break\n",
    "        else:\n",
    "            idx = np.where(arr_ == max_element)\n",
    "        max_idxs.append(idx)\n",
    "        arr_[idx] = -np.inf\n",
    "    return convert(np.asarray(max_idxs))"
   ]
  },
  {
   "cell_type": "code",
   "execution_count": 13,
   "metadata": {},
   "outputs": [],
   "source": [
    "def convert(k):\n",
    "    edge_points = []\n",
    "    for i in range(k.shape[0]):\n",
    "        n = k[i][0].shape[0]\n",
    "        if n>1:\n",
    "            for j in range(n):\n",
    "                edge_points.append([k[i][0][j], k[i][1][j]])\n",
    "        else:\n",
    "            edge_points.append([k[i][0][0], k[i][1][0]])\n",
    "    return edge_points"
   ]
  },
  {
   "cell_type": "code",
   "execution_count": 14,
   "metadata": {},
   "outputs": [
    {
     "name": "stdout",
     "output_type": "stream",
     "text": [
      "0\n",
      "1\n",
      "2\n",
      "3\n",
      "4\n",
      "5\n",
      "6\n",
      "7\n",
      "8\n",
      "9\n",
      "10\n",
      "11\n",
      "12\n",
      "13\n",
      "14\n",
      "15\n",
      "16\n",
      "17\n",
      "18\n",
      "19\n",
      "20\n",
      "21\n",
      "22\n",
      "23\n",
      "24\n",
      "25\n",
      "26\n",
      "27\n",
      "28\n",
      "29\n",
      "30\n",
      "31\n",
      "32\n",
      "33\n",
      "34\n",
      "35\n",
      "36\n",
      "37\n",
      "38\n",
      "39\n",
      "40\n",
      "41\n",
      "42\n",
      "43\n",
      "44\n",
      "45\n",
      "46\n",
      "47\n",
      "48\n",
      "49\n",
      "50\n",
      "51\n",
      "52\n",
      "53\n",
      "54\n",
      "55\n",
      "56\n",
      "57\n",
      "58\n",
      "59\n",
      "60\n",
      "61\n",
      "62\n",
      "63\n",
      "64\n",
      "65\n",
      "66\n",
      "67\n",
      "68\n",
      "69\n",
      "70\n",
      "71\n",
      "72\n",
      "73\n",
      "74\n",
      "75\n",
      "76\n",
      "77\n",
      "78\n",
      "79\n",
      "80\n",
      "81\n",
      "82\n",
      "83\n",
      "84\n",
      "85\n",
      "86\n",
      "87\n",
      "88\n",
      "89\n",
      "90\n",
      "91\n",
      "92\n",
      "93\n",
      "94\n",
      "95\n",
      "96\n",
      "97\n",
      "98\n",
      "99\n",
      "100\n",
      "101\n",
      "102\n",
      "103\n",
      "104\n",
      "105\n",
      "106\n",
      "107\n",
      "108\n",
      "109\n",
      "110\n",
      "111\n",
      "112\n",
      "113\n",
      "114\n",
      "115\n",
      "116\n",
      "117\n",
      "118\n",
      "119\n",
      "120\n",
      "121\n",
      "122\n",
      "123\n",
      "124\n",
      "125\n",
      "126\n",
      "127\n",
      "128\n",
      "129\n",
      "130\n",
      "131\n",
      "132\n",
      "133\n",
      "134\n",
      "135\n",
      "136\n",
      "137\n",
      "138\n",
      "139\n",
      "140\n",
      "141\n",
      "142\n",
      "143\n",
      "144\n",
      "145\n",
      "146\n",
      "147\n",
      "148\n",
      "149\n",
      "150\n",
      "151\n",
      "152\n",
      "153\n",
      "154\n",
      "155\n",
      "156\n",
      "157\n",
      "158\n",
      "159\n",
      "160\n",
      "161\n",
      "156 162\n"
     ]
    },
    {
     "data": {
      "text/plain": [
       "[[519, 85],\n",
       " [520, 85],\n",
       " [518, 85],\n",
       " [142, 67],\n",
       " [47, 425],\n",
       " [518, 86],\n",
       " [519, 86],\n",
       " [141, 67],\n",
       " [426, 401],\n",
       " [142, 68],\n",
       " [141, 68],\n",
       " [143, 67],\n",
       " [46, 254],\n",
       " [425, 401],\n",
       " [278, 203],\n",
       " [46, 425],\n",
       " [47, 253],\n",
       " [253, 343],\n",
       " [279, 203],\n",
       " [48, 425],\n",
       " [252, 343],\n",
       " [46, 253],\n",
       " [604, 136],\n",
       " [517, 85],\n",
       " [519, 84],\n",
       " [47, 424],\n",
       " [605, 136],\n",
       " [520, 84],\n",
       " [521, 85],\n",
       " [46, 424],\n",
       " [603, 136],\n",
       " [280, 202],\n",
       " [379, 68],\n",
       " [252, 342],\n",
       " [520, 86],\n",
       " [426, 400],\n",
       " [253, 342],\n",
       " [378, 65],\n",
       " [532, 365],\n",
       " [48, 424],\n",
       " [378, 68],\n",
       " [378, 69],\n",
       " [279, 202],\n",
       " [381, 215],\n",
       " [45, 424],\n",
       " [605, 135],\n",
       " [531, 365],\n",
       " [143, 68],\n",
       " [602, 135],\n",
       " [45, 253],\n",
       " [532, 364],\n",
       " [377, 68],\n",
       " [382, 214],\n",
       " [49, 424],\n",
       " [273, 48],\n",
       " [381, 214],\n",
       " [427, 400],\n",
       " [608, 266],\n",
       " [47, 252],\n",
       " [271, 47],\n",
       " [517, 86],\n",
       " [65, 157],\n",
       " [272, 48],\n",
       " [383, 213],\n",
       " [425, 402],\n",
       " [604, 135],\n",
       " [45, 254],\n",
       " [270, 47],\n",
       " [377, 69],\n",
       " [609, 265],\n",
       " [272, 49],\n",
       " [382, 216],\n",
       " [606, 135],\n",
       " [48, 423],\n",
       " [254, 342],\n",
       " [379, 69],\n",
       " [424, 401],\n",
       " [521, 84],\n",
       " [45, 423],\n",
       " [46, 423],\n",
       " [251, 342],\n",
       " [64, 157],\n",
       " [65, 156],\n",
       " [424, 400],\n",
       " [425, 400],\n",
       " [47, 254],\n",
       " [48, 253],\n",
       " [144, 67],\n",
       " [251, 343],\n",
       " [377, 67],\n",
       " [380, 68],\n",
       " [380, 214],\n",
       " [382, 213],\n",
       " [533, 364],\n",
       " [376, 67],\n",
       " [377, 65],\n",
       " [427, 401],\n",
       " [44, 423],\n",
       " [47, 423],\n",
       " [280, 203],\n",
       " [383, 215],\n",
       " [603, 135],\n",
       " [604, 137],\n",
       " [46, 252],\n",
       " [49, 423],\n",
       " [63, 157],\n",
       " [272, 50],\n",
       " [381, 216],\n",
       " [531, 364],\n",
       " [608, 265],\n",
       " [45, 425],\n",
       " [48, 252],\n",
       " [271, 50],\n",
       " [273, 49],\n",
       " [274, 48],\n",
       " [278, 204],\n",
       " [426, 164],\n",
       " [137, 380],\n",
       " [271, 49],\n",
       " [418, 156],\n",
       " [602, 136],\n",
       " [64, 156],\n",
       " [140, 68],\n",
       " [384, 213],\n",
       " [427, 171],\n",
       " [49, 425],\n",
       " [144, 66],\n",
       " [384, 214],\n",
       " [376, 68],\n",
       " [380, 213],\n",
       " [381, 213],\n",
       " [138, 381],\n",
       " [521, 86],\n",
       " [137, 379],\n",
       " [232, 190],\n",
       " [278, 202],\n",
       " [425, 164],\n",
       " [44, 424],\n",
       " [136, 379],\n",
       " [606, 134],\n",
       " [66, 157],\n",
       " [140, 381],\n",
       " [252, 344],\n",
       " [254, 343],\n",
       " [375, 67],\n",
       " [376, 66],\n",
       " [139, 381],\n",
       " [233, 190],\n",
       " [419, 156],\n",
       " [428, 172],\n",
       " [516, 84],\n",
       " [610, 266],\n",
       " [376, 65],\n",
       " [378, 67],\n",
       " [380, 215],\n",
       " [516, 85]]"
      ]
     },
     "execution_count": 14,
     "metadata": {},
     "output_type": "execute_result"
    }
   ],
   "source": [
    "\n",
    "e = []\n",
    "edge_points = max_indices(acc, 60)\n",
    "#edge_points\n",
    "for i in range(len(edge_points)):\n",
    "    if (i in range(50,56)):\n",
    "        print (i)\n",
    "    else:\n",
    "        print (i)\n",
    "        e.append(edge_points[i])\n",
    "print (len(e), len(edge_points))\n",
    "edge_points = e\n",
    "len(edge_points)\n",
    "e\n"
   ]
  },
  {
   "cell_type": "code",
   "execution_count": 15,
   "metadata": {},
   "outputs": [
    {
     "name": "stdout",
     "output_type": "stream",
     "text": [
      "519 85\n"
     ]
    },
    {
     "data": {
      "text/plain": [
       "True"
      ]
     },
     "execution_count": 15,
     "metadata": {},
     "output_type": "execute_result"
    }
   ],
   "source": [
    "o_img = cv2.imread(\"hough.jpg\")\n",
    "print (edge_points[0][0], edge_points[0][1])\n",
    "for i in range(len(edge_points)):\n",
    "    cv2.circle(o_img, (edge_points[i][0],edge_points[i][1]), R, (0,255,0))\n",
    "cv2.imwrite(\"T3_Images/circle.jpg\",o_img)"
   ]
  },
  {
   "cell_type": "code",
   "execution_count": null,
   "metadata": {},
   "outputs": [],
   "source": []
  }
 ],
 "metadata": {
  "kernelspec": {
   "display_name": "Python 3",
   "language": "python",
   "name": "python3"
  },
  "language_info": {
   "codemirror_mode": {
    "name": "ipython",
    "version": 3
   },
   "file_extension": ".py",
   "mimetype": "text/x-python",
   "name": "python",
   "nbconvert_exporter": "python",
   "pygments_lexer": "ipython3",
   "version": "3.6.5"
  }
 },
 "nbformat": 4,
 "nbformat_minor": 2
}
