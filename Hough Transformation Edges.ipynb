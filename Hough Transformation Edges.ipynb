{
 "cells": [
  {
   "cell_type": "code",
   "execution_count": 20,
   "metadata": {},
   "outputs": [
    {
     "name": "stdout",
     "output_type": "stream",
     "text": [
      "<class 'numpy.ndarray'>\n"
     ]
    }
   ],
   "source": [
    "import cv2\n",
    "import numpy as np\n",
    "img = cv2.imread(\"hough.jpg\", 0)\n",
    "print(type(img))\n",
    "img = np.asarray(img)\n",
    "\n",
    "#Fetching the rows and columns\n",
    "rows = len(img)\n",
    "cols = len(img[0])"
   ]
  },
  {
   "cell_type": "markdown",
   "metadata": {},
   "source": [
    "# Sobel Operator"
   ]
  },
  {
   "cell_type": "code",
   "execution_count": 21,
   "metadata": {
    "scrolled": true
   },
   "outputs": [],
   "source": [
    "#initializing Sobel Operator\n",
    "gx_sobel = [[-1,-2,-1],\n",
    "           [0,0,0],\n",
    "           [1,2,1]]\n",
    "\n",
    "gy_sobel = [[-1,0,1],\n",
    "           [-2,0,2],\n",
    "           [-1,0,1]]\n",
    "\n",
    "x_sobel = list(map(list,zip(*gx_sobel)))\n",
    "y_sobel = list(map(list,zip(*gy_sobel)))\n"
   ]
  },
  {
   "cell_type": "markdown",
   "metadata": {},
   "source": [
    "# Applying Gradient"
   ]
  },
  {
   "cell_type": "code",
   "execution_count": 22,
   "metadata": {
    "scrolled": true
   },
   "outputs": [
    {
     "name": "stderr",
     "output_type": "stream",
     "text": [
      "C:\\Anaconda3.6\\lib\\site-packages\\ipykernel_launcher.py:10: RuntimeWarning: overflow encountered in ubyte_scalars\n",
      "  # Remove the CWD from sys.path while we load stuff.\n",
      "C:\\Anaconda3.6\\lib\\site-packages\\ipykernel_launcher.py:15: RuntimeWarning: overflow encountered in ubyte_scalars\n",
      "  from ipykernel import kernelapp as app\n"
     ]
    },
    {
     "data": {
      "text/plain": [
       "True"
      ]
     },
     "execution_count": 22,
     "metadata": {},
     "output_type": "execute_result"
    }
   ],
   "source": [
    "#Used to pad the image\n",
    "img_x = [[0]*902 for i in range(602)]\n",
    "img_y= [[0]*902 for i in range(602)]\n",
    "\n",
    "#Finding the Gradient to distinguish the images clearly. Especially the edges of the images\n",
    "#Along X Axis\n",
    "\n",
    "for i in range(1,img.shape[0]-1):\n",
    "    for j in range(1,img.shape[1]-1):\n",
    "        img_x[i][j] = img[i+1][j] - img[i-1][j]  #Subtract the neighbouring pixels on the x-axis\n",
    "\n",
    "#Along Y Axis        \n",
    "for i in range(1,img.shape[0]-1):\n",
    "    for j in range(1,img.shape[1]-1):\n",
    "        img_y[i][j] = img[i][j+1] - img[i][j-1]  #Subtract the neighbouring pixels on the y-axis\n",
    "\n",
    "img_x = np.asarray(img_x)\n",
    "img_y = np.asarray(img_y)\n",
    "\n",
    "cv2.imwrite('T3_Images/Gradient_X.png',(img_x))\n",
    "cv2.imwrite('T3_Images/Gradient_Y.png',(img_y))\n"
   ]
  },
  {
   "cell_type": "markdown",
   "metadata": {},
   "source": [
    "# Convolution"
   ]
  },
  {
   "cell_type": "code",
   "execution_count": 23,
   "metadata": {},
   "outputs": [
    {
     "data": {
      "text/plain": [
       "True"
      ]
     },
     "execution_count": 23,
     "metadata": {},
     "output_type": "execute_result"
    }
   ],
   "source": [
    "#Convolution\n",
    "import math\n",
    "sobelgx = [[0]*img.shape[1] for i in range(img.shape[0])]    #Creating empty 2D Lists\n",
    "sobelgy = [[0]*img.shape[1] for i in range(img.shape[0])]\n",
    "sobel = [[0]*img.shape[1] for i in range(img.shape[0])]\n",
    "sobel_add = [[0]*img.shape[1] for i in range(img.shape[0])]\n",
    "\n",
    "#Multiplying the sobel operator with the corresponding image pixel for that patch of the image to find the covoluted pixel value for (x,y)\n",
    "for x in range(1, rows-1):\n",
    "    for y in range (1, cols-1):\n",
    "        gx =  x_sobel[0][0] * img[x-1][y-1] + x_sobel[0][1] * img[x][y-1] + x_sobel[0][2] * img[x+1][y-1] + (x_sobel[1][0] * img[x-1][y])   + (x_sobel[1][1] * img[x][y])   + (x_sobel[1][2] * img[x+1][y]) + (x_sobel[2][0] * img[x-1][y+1]) + (x_sobel[2][1] * img[x][y+1]) + (x_sobel[2][2] * img[x+1][y+1])\n",
    "        sobelgy[x-1][y-1] = gx\n",
    "        gy =  (y_sobel[0][0] * img[x-1][y-1]) + (y_sobel[0][1] * img[x][y-1]) + (y_sobel[0][2] * img[x+1][y-1]) + (y_sobel[1][0] * img[x-1][y])   + (y_sobel[1][1] * img[x][y])   + (y_sobel[1][2] * img[x+1][y]) + (y_sobel[2][0] * img[x-1][y+1]) + (y_sobel[2][1] * img[x][y+1]) + (y_sobel[2][2] * img[x+1][y+1])\n",
    "        sobelgx[x-1][y-1] = gy\n",
    "        \n",
    "        sobel[x-1][y-1] = math.sqrt((gx*gx + gy*gy))   #Combining the outputs of the Sobel-X and Sobel-Y by Root of Squared Sum.\n",
    "        sobel_add[x-1][y-1] = (gx + gy)/2              #Combining the outputs of the Sobel-x and Sobel-Y by adding the values\n",
    "\n",
    "cv2.imwrite('T3_Images/Sobel_X.png',np.asarray(sobelgx)) \n",
    "cv2.imwrite('T3_Images/Sobel_Y.png',np.asarray(sobelgy))\n",
    "cv2.imwrite('T3_Images/Sobel.png',np.asarray(sobel))\n",
    "cv2.imwrite('T3_Images/Sobel_add.png',np.asarray(sobel_add))\n"
   ]
  },
  {
   "cell_type": "markdown",
   "metadata": {},
   "source": [
    "# Hough Transform"
   ]
  },
  {
   "cell_type": "code",
   "execution_count": 24,
   "metadata": {},
   "outputs": [],
   "source": [
    "sobelgx = np.asarray(sobelgx)\n",
    "sobelgy = np.asarray(sobelgy)\n",
    "sobel = np.asarray(sobel)"
   ]
  },
  {
   "cell_type": "code",
   "execution_count": 25,
   "metadata": {},
   "outputs": [],
   "source": [
    "def hough(x,y, theta):\n",
    "    diag = np.sqrt(thres_img.shape[0]**2+thres_img.shape[1]**2)-1\n",
    "    return (int)(y*math.cos(math.radians(theta)) + x*math.sin(math.radians(theta))+ diag)"
   ]
  },
  {
   "cell_type": "code",
   "execution_count": 26,
   "metadata": {},
   "outputs": [],
   "source": [
    "# sobelgx = cv2.imread(\"red_img.jpg\", 0)\n",
    "# cv2.imwrite(\"gray_red_img.jpg\",sobelgx)"
   ]
  },
  {
   "cell_type": "markdown",
   "metadata": {},
   "source": [
    "# Accumulator Matrix"
   ]
  },
  {
   "cell_type": "code",
   "execution_count": 27,
   "metadata": {},
   "outputs": [],
   "source": [
    "def accumulator_matrix(thres_img,theta):\n",
    "    rho_max = (int)(2 * np.sqrt(thres_img.shape[0]**2+thres_img.shape[1]**2)-1)\n",
    "    acc = np.zeros((theta.shape[0], rho_max))\n",
    "    for x in range(thres_img.shape[0]):\n",
    "        for y in range(thres_img.shape[1]):\n",
    "            if thres_img[x][y] == 255:\n",
    "                for t in theta:\n",
    "                    rho = hough(x,y,t)\n",
    "                    #print (t)\n",
    "                    acc[t+int(theta.shape[0]/2)][rho] += 1\n",
    "    cv2.imwrite(\"accumulator.jpg\",acc)\n",
    "    return acc"
   ]
  },
  {
   "cell_type": "code",
   "execution_count": 28,
   "metadata": {},
   "outputs": [],
   "source": [
    "def max_indices(arr, k):\n",
    "    '''\n",
    "    Returns the indices of the k first largest elements of arr\n",
    "    (in descending order in values)\n",
    "    '''\n",
    "    assert k <= arr.size, 'k should be smaller or equal to the array size'\n",
    "    arr_ = arr.astype(float)  # make a copy of arr\n",
    "    max_idxs = []\n",
    "    for _ in range(k):\n",
    "        max_element = np.max(arr_)\n",
    "        if np.isinf(max_element):\n",
    "            break\n",
    "        else:\n",
    "            idx = np.where(arr_ == max_element)\n",
    "        max_idxs.append(idx)\n",
    "        arr_[idx] = -np.inf\n",
    "    return convert(np.asarray(max_idxs))"
   ]
  },
  {
   "cell_type": "code",
   "execution_count": 29,
   "metadata": {},
   "outputs": [],
   "source": [
    "def convert(k):\n",
    "    edge_points = []\n",
    "    for i in range(k.shape[0]):\n",
    "        n = k[i][0].shape[0]\n",
    "        if n>1:\n",
    "            for j in range(n):\n",
    "                edge_points.append([k[i][0][j], k[i][1][j]])\n",
    "        else:\n",
    "            edge_points.append([k[i][0][0], k[i][1][0]])\n",
    "    return edge_points"
   ]
  },
  {
   "cell_type": "markdown",
   "metadata": {},
   "source": [
    "# Point to Edge Detection"
   ]
  },
  {
   "cell_type": "code",
   "execution_count": 30,
   "metadata": {},
   "outputs": [],
   "source": [
    "def get_edge(edge_points):\n",
    "    edge_img_vertical = cv2.imread(\"hough.jpg\")\n",
    "    edge_img_horizontal = cv2.imread(\"hough.jpg\")\n",
    "    points_on_edge = []\n",
    "    for x in range(thres_img.shape[0]):\n",
    "        for y in range(thres_img.shape[1]):\n",
    "            if thres_img[x][y] == 255:\n",
    "                for k in range(len(edge_points)):\n",
    "                    ro = hough(x,y,edge_points[k][0]-90)\n",
    "\n",
    "                    if ro == edge_points[k][1]:\n",
    "                        points_on_edge.append([x,y])\n",
    "                        if edge_points[k][0] in range(80,95):\n",
    "                            edge_img_vertical[x][y] = (255,0,0)\n",
    "                        elif edge_points[k][0] in range(50,60):\n",
    "                            edge_img_horizontal[x][y] = (0,255,0)\n",
    "    cv2.imwrite(\"T3_Images/Vertical_Edge.jpg\",edge_img_vertical)\n",
    "    cv2.imwrite(\"T3_Images/Horizontal_Edge.jpg\",edge_img_horizontal)\n",
    "    "
   ]
  },
  {
   "cell_type": "markdown",
   "metadata": {},
   "source": [
    "# Main"
   ]
  },
  {
   "cell_type": "code",
   "execution_count": 34,
   "metadata": {},
   "outputs": [
    {
     "data": {
      "text/plain": [
       "True"
      ]
     },
     "execution_count": 34,
     "metadata": {},
     "output_type": "execute_result"
    }
   ],
   "source": [
    "thres_img = np.zeros((sobelgx.shape[0], sobelgx.shape[1]))\n",
    "x_coord = []\n",
    "y_coord = []\n",
    "for i in range(sobelgx.shape[0]):\n",
    "    for j in range(sobelgx.shape[1]):\n",
    "        if sobelgx[i][j] > 100:\n",
    "            thres_img[i][j] = 255\n",
    "cv2.imwrite(\"T3_Images/Updated_sobel.jpg\",thres_img)"
   ]
  },
  {
   "cell_type": "code",
   "execution_count": 35,
   "metadata": {},
   "outputs": [],
   "source": [
    "theta = []\n",
    "for i in range(-90,90):\n",
    "    theta.append(i)\n",
    "theta = np.asarray(theta)"
   ]
  },
  {
   "cell_type": "code",
   "execution_count": 36,
   "metadata": {},
   "outputs": [],
   "source": [
    "acc = accumulator_matrix(thres_img,theta)\n",
    "edge_points = max_indices(acc, 100)\n",
    "get_edge(edge_points)\n"
   ]
  },
  {
   "cell_type": "code",
   "execution_count": null,
   "metadata": {},
   "outputs": [],
   "source": []
  }
 ],
 "metadata": {
  "kernelspec": {
   "display_name": "Python 3",
   "language": "python",
   "name": "python3"
  },
  "language_info": {
   "codemirror_mode": {
    "name": "ipython",
    "version": 3
   },
   "file_extension": ".py",
   "mimetype": "text/x-python",
   "name": "python",
   "nbconvert_exporter": "python",
   "pygments_lexer": "ipython3",
   "version": "3.6.5"
  }
 },
 "nbformat": 4,
 "nbformat_minor": 2
}
